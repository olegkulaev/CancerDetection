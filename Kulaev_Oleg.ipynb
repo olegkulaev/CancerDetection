{
 "cells": [
  {
   "cell_type": "code",
   "execution_count": 69,
   "metadata": {
    "collapsed": false
   },
   "outputs": [],
   "source": [
    "import pandas as pd\n",
    "import xgboost as xgb\n",
    "from numpy import ravel\n",
    "from xgboost import plot_importance\n",
    "from xgboost.sklearn import XGBClassifier\n",
    "from sklearn.ensemble import RandomForestClassifier\n",
    "from sklearn.ensemble import ExtraTreesClassifier\n",
    "from sklearn.neighbors import KNeighborsClassifier\n",
    "from sklearn.svm import SVC\n",
    "from sklearn.neural_network import MLPClassifier\n",
    "from sklearn.model_selection import train_test_split\n",
    "from sklearn import metrics\n",
    "from sklearn.model_selection import GridSearchCV\n",
    "import matplotlib.pylab as plt\n",
    "from sklearn.linear_model import LogisticRegressionCV\n",
    "from sklearn.preprocessing import StandardScaler\n",
    "import numpy as np\n",
    "from sklearn.model_selection import learning_curve\n",
    "from sklearn.model_selection import ShuffleSplit\n",
    "from sklearn.preprocessing import scale\n",
    "%matplotlib inline"
   ]
  },
  {
   "cell_type": "markdown",
   "metadata": {},
   "source": [
    "# Reading data and removing N/As"
   ]
  },
  {
   "cell_type": "code",
   "execution_count": 8,
   "metadata": {
    "collapsed": false
   },
   "outputs": [],
   "source": [
    "data = pd.read_csv('data.csv', index_col='Unnamed: 0')"
   ]
  },
  {
   "cell_type": "code",
   "execution_count": 14,
   "metadata": {
    "collapsed": false
   },
   "outputs": [],
   "source": [
    "X = list(data.columns)\n",
    "X.remove('ID')\n",
    "X.remove('class')\n",
    "y = 'class'\n",
    "data[y] = data[y].map(lambda x: x=='malignant')"
   ]
  },
  {
   "cell_type": "code",
   "execution_count": 15,
   "metadata": {
    "collapsed": false
   },
   "outputs": [],
   "source": [
    "for col in X:\n",
    "    data[col] = data[col].fillna(data[col].mean())"
   ]
  },
  {
   "cell_type": "code",
   "execution_count": 16,
   "metadata": {
    "collapsed": false
   },
   "outputs": [],
   "source": [
    "scaler = StandardScaler()\n",
    "data[X] = scaler.fit_transform(data[X])"
   ]
  },
  {
   "cell_type": "code",
   "execution_count": 17,
   "metadata": {
    "collapsed": false
   },
   "outputs": [
    {
     "data": {
      "text/html": [
       "<div>\n",
       "<table border=\"1\" class=\"dataframe\">\n",
       "  <thead>\n",
       "    <tr style=\"text-align: right;\">\n",
       "      <th></th>\n",
       "      <th>ID</th>\n",
       "      <th>V1</th>\n",
       "      <th>V2</th>\n",
       "      <th>V3</th>\n",
       "      <th>V4</th>\n",
       "      <th>V5</th>\n",
       "      <th>V6</th>\n",
       "      <th>V7</th>\n",
       "      <th>V8</th>\n",
       "      <th>V9</th>\n",
       "    </tr>\n",
       "  </thead>\n",
       "  <tbody>\n",
       "    <tr>\n",
       "      <th>count</th>\n",
       "      <td>6.990000e+02</td>\n",
       "      <td>6.990000e+02</td>\n",
       "      <td>6.990000e+02</td>\n",
       "      <td>6.990000e+02</td>\n",
       "      <td>6.990000e+02</td>\n",
       "      <td>6.990000e+02</td>\n",
       "      <td>6.990000e+02</td>\n",
       "      <td>6.990000e+02</td>\n",
       "      <td>6.990000e+02</td>\n",
       "      <td>6.990000e+02</td>\n",
       "    </tr>\n",
       "    <tr>\n",
       "      <th>mean</th>\n",
       "      <td>1.071704e+06</td>\n",
       "      <td>2.284772e-16</td>\n",
       "      <td>-2.801765e-16</td>\n",
       "      <td>-5.854481e-16</td>\n",
       "      <td>-1.477121e-16</td>\n",
       "      <td>-1.021199e-15</td>\n",
       "      <td>4.866557e-16</td>\n",
       "      <td>-5.654355e-16</td>\n",
       "      <td>3.874662e-16</td>\n",
       "      <td>7.093356e-16</td>\n",
       "    </tr>\n",
       "    <tr>\n",
       "      <th>std</th>\n",
       "      <td>6.170957e+05</td>\n",
       "      <td>1.000716e+00</td>\n",
       "      <td>1.000716e+00</td>\n",
       "      <td>1.000716e+00</td>\n",
       "      <td>1.000716e+00</td>\n",
       "      <td>1.000716e+00</td>\n",
       "      <td>1.000716e+00</td>\n",
       "      <td>1.000716e+00</td>\n",
       "      <td>1.000716e+00</td>\n",
       "      <td>1.000716e+00</td>\n",
       "    </tr>\n",
       "    <tr>\n",
       "      <th>min</th>\n",
       "      <td>6.163400e+04</td>\n",
       "      <td>-1.255385e+00</td>\n",
       "      <td>-6.999951e-01</td>\n",
       "      <td>-7.432990e-01</td>\n",
       "      <td>-6.332472e-01</td>\n",
       "      <td>-1.001495e+00</td>\n",
       "      <td>-7.069914e-01</td>\n",
       "      <td>-1.024981e+00</td>\n",
       "      <td>-6.118250e-01</td>\n",
       "      <td>-3.439118e-01</td>\n",
       "    </tr>\n",
       "    <tr>\n",
       "      <th>25%</th>\n",
       "      <td>8.706885e+05</td>\n",
       "      <td>-8.889541e-01</td>\n",
       "      <td>-6.999951e-01</td>\n",
       "      <td>-7.432990e-01</td>\n",
       "      <td>-6.332472e-01</td>\n",
       "      <td>-5.495614e-01</td>\n",
       "      <td>-7.069914e-01</td>\n",
       "      <td>-6.018004e-01</td>\n",
       "      <td>-6.118250e-01</td>\n",
       "      <td>-3.439118e-01</td>\n",
       "    </tr>\n",
       "    <tr>\n",
       "      <th>50%</th>\n",
       "      <td>1.171710e+06</td>\n",
       "      <td>-1.560928e-01</td>\n",
       "      <td>-6.999951e-01</td>\n",
       "      <td>-7.432990e-01</td>\n",
       "      <td>-6.332472e-01</td>\n",
       "      <td>-5.495614e-01</td>\n",
       "      <td>-7.069914e-01</td>\n",
       "      <td>-1.786195e-01</td>\n",
       "      <td>-6.118250e-01</td>\n",
       "      <td>-3.439118e-01</td>\n",
       "    </tr>\n",
       "    <tr>\n",
       "      <th>75%</th>\n",
       "      <td>1.238298e+06</td>\n",
       "      <td>2.103378e-01</td>\n",
       "      <td>6.117919e-01</td>\n",
       "      <td>6.035993e-01</td>\n",
       "      <td>4.181537e-01</td>\n",
       "      <td>3.543054e-01</td>\n",
       "      <td>4.043438e-01</td>\n",
       "      <td>2.445615e-01</td>\n",
       "      <td>3.713145e-01</td>\n",
       "      <td>-3.439118e-01</td>\n",
       "    </tr>\n",
       "    <tr>\n",
       "      <th>max</th>\n",
       "      <td>1.345435e+07</td>\n",
       "      <td>2.042491e+00</td>\n",
       "      <td>2.251526e+00</td>\n",
       "      <td>2.287222e+00</td>\n",
       "      <td>2.520955e+00</td>\n",
       "      <td>3.065906e+00</td>\n",
       "      <td>1.793513e+00</td>\n",
       "      <td>2.783647e+00</td>\n",
       "      <td>2.337594e+00</td>\n",
       "      <td>4.907421e+00</td>\n",
       "    </tr>\n",
       "  </tbody>\n",
       "</table>\n",
       "</div>"
      ],
      "text/plain": [
       "                 ID            V1            V2            V3            V4  \\\n",
       "count  6.990000e+02  6.990000e+02  6.990000e+02  6.990000e+02  6.990000e+02   \n",
       "mean   1.071704e+06  2.284772e-16 -2.801765e-16 -5.854481e-16 -1.477121e-16   \n",
       "std    6.170957e+05  1.000716e+00  1.000716e+00  1.000716e+00  1.000716e+00   \n",
       "min    6.163400e+04 -1.255385e+00 -6.999951e-01 -7.432990e-01 -6.332472e-01   \n",
       "25%    8.706885e+05 -8.889541e-01 -6.999951e-01 -7.432990e-01 -6.332472e-01   \n",
       "50%    1.171710e+06 -1.560928e-01 -6.999951e-01 -7.432990e-01 -6.332472e-01   \n",
       "75%    1.238298e+06  2.103378e-01  6.117919e-01  6.035993e-01  4.181537e-01   \n",
       "max    1.345435e+07  2.042491e+00  2.251526e+00  2.287222e+00  2.520955e+00   \n",
       "\n",
       "                 V5            V6            V7            V8            V9  \n",
       "count  6.990000e+02  6.990000e+02  6.990000e+02  6.990000e+02  6.990000e+02  \n",
       "mean  -1.021199e-15  4.866557e-16 -5.654355e-16  3.874662e-16  7.093356e-16  \n",
       "std    1.000716e+00  1.000716e+00  1.000716e+00  1.000716e+00  1.000716e+00  \n",
       "min   -1.001495e+00 -7.069914e-01 -1.024981e+00 -6.118250e-01 -3.439118e-01  \n",
       "25%   -5.495614e-01 -7.069914e-01 -6.018004e-01 -6.118250e-01 -3.439118e-01  \n",
       "50%   -5.495614e-01 -7.069914e-01 -1.786195e-01 -6.118250e-01 -3.439118e-01  \n",
       "75%    3.543054e-01  4.043438e-01  2.445615e-01  3.713145e-01 -3.439118e-01  \n",
       "max    3.065906e+00  1.793513e+00  2.783647e+00  2.337594e+00  4.907421e+00  "
      ]
     },
     "execution_count": 17,
     "metadata": {},
     "output_type": "execute_result"
    }
   ],
   "source": [
    "data.describe()"
   ]
  },
  {
   "cell_type": "markdown",
   "metadata": {},
   "source": [
    "# Feature correlation plot"
   ]
  },
  {
   "cell_type": "code",
   "execution_count": 137,
   "metadata": {
    "collapsed": false,
    "scrolled": true
   },
   "outputs": [
    {
     "data": {
      "image/png": "[encoded data removed]",
      "text/plain": [
       "<matplotlib.figure.Figure at 0x1cce6c36e10>"
      ]
     },
     "metadata": {},
     "output_type": "display_data"
    }
   ],
   "source": [
    "from matplotlib import ticker\n",
    "fig = plt.figure()\n",
    "ax = fig.add_subplot(111)\n",
    "cax = ax.matshow(data[X].corr())\n",
    "fig.colorbar(cax)\n",
    "alpha = [''] + X\n",
    "ax.set_xticklabels(alpha, rotation=90)\n",
    "ax.set_yticklabels(alpha)\n",
    "\n",
    "ax.xaxis.set_major_locator(ticker.MultipleLocator(1))\n",
    "ax.yaxis.set_major_locator(ticker.MultipleLocator(1))\n",
    "\n",
    "plt.show()"
   ]
  },
  {
   "cell_type": "markdown",
   "metadata": {},
   "source": [
    "# Base model (xgb)"
   ]
  },
  {
   "cell_type": "code",
   "execution_count": 18,
   "metadata": {
    "collapsed": false
   },
   "outputs": [],
   "source": [
    "train, test = train_test_split(data, train_size=0.8, stratify=data[y], random_state=42)"
   ]
  },
  {
   "cell_type": "code",
   "execution_count": 12,
   "metadata": {
    "collapsed": true
   },
   "outputs": [],
   "source": [
    "def evaluateModel(clf):\n",
    "    clf.fit(train[X], train[y])\n",
    "    print(\"Accuracy: %.6g\" % metrics.accuracy_score(ravel(test[y]), clf.predict(test[X])))\n",
    "    print(\"ROC AUC: %.6g\" % metrics.roc_auc_score(ravel(test[y]), clf.predict_proba(test[X])[:,1]))\n",
    "    print(\"Log loss: %.6g\" % metrics.log_loss(ravel(test[y]), clf.predict_proba(test[X])[:,1]))"
   ]
  },
  {
   "cell_type": "code",
   "execution_count": 140,
   "metadata": {
    "collapsed": false
   },
   "outputs": [
    {
     "name": "stdout",
     "output_type": "stream",
     "text": [
      "Accuracy: 0.942857\n",
      "ROC AUC: 0.988678\n",
      "Log loss: 0.145189\n"
     ]
    }
   ],
   "source": [
    "evaluateModel(XGBClassifier(seed=42, nthread=4))"
   ]
  },
  {
   "cell_type": "markdown",
   "metadata": {},
   "source": [
    "# Tune xgb params"
   ]
  },
  {
   "cell_type": "code",
   "execution_count": 71,
   "metadata": {
    "collapsed": false
   },
   "outputs": [
    {
     "name": "stdout",
     "output_type": "stream",
     "text": [
      "{'n_estimators': 22} 0.991514663685\n"
     ]
    }
   ],
   "source": [
    "param_test1 = {\n",
    " 'n_estimators':range(10, 23, 1)\n",
    "}\n",
    "gsearch1 = GridSearchCV(estimator = XGBClassifier(learning_rate=0.3, nthread=4, seed=42,),\n",
    " param_grid = param_test1, scoring='roc_auc',n_jobs=4,iid=False, cv=5)\n",
    "gsearch1.fit(train[X], ravel(train[y]))\n",
    "print(gsearch1.best_params_, gsearch1.best_score_)\n",
    "n_estimators = gsearch1.best_params_['n_estimators']"
   ]
  },
  {
   "cell_type": "code",
   "execution_count": 73,
   "metadata": {
    "collapsed": false
   },
   "outputs": [
    {
     "data": {
      "text/plain": [
       "({'max_depth': 3, 'min_child_weight': 1}, 0.99151466368481511)"
      ]
     },
     "execution_count": 73,
     "metadata": {},
     "output_type": "execute_result"
    }
   ],
   "source": [
    "param_test2 = {\n",
    " 'max_depth':[2,3,4,5],\n",
    " 'min_child_weight':[1,2,3,4,5,6,7,8]\n",
    "}\n",
    "gsearch2 = GridSearchCV(estimator = XGBClassifier(learning_rate=0.3, \n",
    "                                                 n_estimators=n_estimators,\n",
    "                                                 nthread=4,\n",
    "                                                 seed=42), \n",
    " param_grid = param_test2, scoring='roc_auc',n_jobs=4,iid=False, cv=5)\n",
    "gsearch2.fit(train[X], ravel(train[y]))\n",
    "gsearch2.best_params_, gsearch2.best_score_\n",
    "#{'max_depth': 3, 'min_child_weight': 1} it's default values for xgb"
   ]
  },
  {
   "cell_type": "code",
   "execution_count": 77,
   "metadata": {
    "collapsed": false
   },
   "outputs": [
    {
     "name": "stdout",
     "output_type": "stream",
     "text": [
      "{'gamma': 0.008} 0.991653263823\n"
     ]
    }
   ],
   "source": [
    "param_test3 = {\n",
    " 'gamma':[i/1000.0 for i in range(0,100)]\n",
    "}\n",
    "gsearch3 = GridSearchCV(estimator = XGBClassifier(learning_rate = 0.3,\n",
    "                                                  n_estimators=n_estimators,\n",
    "                                                  nthread=4,\n",
    "                                                  seed=42),\n",
    " param_grid = param_test3, scoring='roc_auc',n_jobs=4,iid=False, cv=5)\n",
    "gsearch3.fit(train[X], ravel(train[y]))\n",
    "gamma = gsearch3.best_params_['gamma']\n",
    "print(gsearch3.best_params_, gsearch3.best_score_)"
   ]
  },
  {
   "cell_type": "code",
   "execution_count": 76,
   "metadata": {
    "collapsed": false
   },
   "outputs": [
    {
     "data": {
      "text/plain": [
       "({'colsample_bytree': 1.0, 'subsample': 1.0}, 0.99165326382341523)"
      ]
     },
     "execution_count": 76,
     "metadata": {},
     "output_type": "execute_result"
    }
   ],
   "source": [
    "param_test4 = {\n",
    " 'subsample':[i/100.0 for i in range(90,101,1)],\n",
    " 'colsample_bytree':[i/100.0 for i in range(90,101,1)]\n",
    "}\n",
    "gsearch4 = GridSearchCV(estimator = XGBClassifier(learning_rate = 0.3,\n",
    "                                                  n_estimators=n_estimators,\n",
    "                                                  gamma=gamma,\n",
    "                                                  nthread=4,\n",
    "                                                  seed=42),\n",
    " param_grid = param_test4, scoring='roc_auc',n_jobs=4,iid=False, cv=5)\n",
    "gsearch4.fit(train[X], ravel(train[y]))\n",
    "gsearch4.best_params_, gsearch4.best_score_\n",
    "#{'colsample_bytree': 1.0, 'subsample': 1.0} it's default values for xgb"
   ]
  },
  {
   "cell_type": "code",
   "execution_count": 78,
   "metadata": {
    "collapsed": false
   },
   "outputs": [
    {
     "name": "stdout",
     "output_type": "stream",
     "text": [
      "{'reg_alpha': 0} 0.991653263823\n"
     ]
    }
   ],
   "source": [
    "param_test5 = {\n",
    " 'reg_alpha':[0, 0.00001, 0.00005, 0.0001],\n",
    "}\n",
    "gsearch5 = GridSearchCV(estimator = XGBClassifier(learning_rate = 0.3,\n",
    "                                                  n_estimators=n_estimators,\n",
    "                                                  gamma=gamma,\n",
    "                                                  nthread=4,\n",
    "                                                  seed=42),\n",
    "    param_grid = param_test5, scoring='roc_auc',n_jobs=4,iid=False, cv=5)\n",
    "gsearch5.fit(train[X], ravel(train[y]))\n",
    "print(gsearch5.best_params_, gsearch5.best_score_)"
   ]
  },
  {
   "cell_type": "code",
   "execution_count": 141,
   "metadata": {
    "collapsed": false,
    "scrolled": true
   },
   "outputs": [
    {
     "name": "stdout",
     "output_type": "stream",
     "text": [
      "Accuracy: 0.957143\n",
      "ROC AUC: 0.990716\n",
      "Log loss: 0.127106\n"
     ]
    }
   ],
   "source": [
    "evaluateModel(XGBClassifier(learning_rate = 0.3,\n",
    "                              n_estimators=n_estimators,\n",
    "                              gamma=gamma,\n",
    "                              nthread=4,\n",
    "                              seed=42))"
   ]
  },
  {
   "cell_type": "markdown",
   "metadata": {},
   "source": [
    "# Random forest"
   ]
  },
  {
   "cell_type": "code",
   "execution_count": 83,
   "metadata": {
    "collapsed": false
   },
   "outputs": [
    {
     "name": "stdout",
     "output_type": "stream",
     "text": [
      "Accuracy: 0.957143\n",
      "ROC AUC: 0.979506\n",
      "Log loss: 0.349592\n"
     ]
    }
   ],
   "source": [
    "evaluateModel(RandomForestClassifier(n_estimators=31, random_state=42, n_jobs=4))"
   ]
  },
  {
   "cell_type": "markdown",
   "metadata": {},
   "source": [
    "# Tune rf params"
   ]
  },
  {
   "cell_type": "code",
   "execution_count": 85,
   "metadata": {
    "collapsed": false
   },
   "outputs": [
    {
     "data": {
      "text/plain": [
       "({'n_estimators': 31}, 0.99213084472637481)"
      ]
     },
     "execution_count": 85,
     "metadata": {},
     "output_type": "execute_result"
    }
   ],
   "source": [
    "param_test1 = {\n",
    "     'n_estimators':range(20, 40, 1)\n",
    "}\n",
    "gsearch = GridSearchCV(estimator = RandomForestClassifier(n_jobs=4, random_state=42),\n",
    " param_grid = param_test1, scoring='roc_auc',n_jobs=4,iid=False, cv=5)\n",
    "gsearch.fit(train[X], ravel(train[y]))\n",
    "gsearch.best_params_, gsearch.best_score_"
   ]
  },
  {
   "cell_type": "code",
   "execution_count": 142,
   "metadata": {
    "collapsed": false
   },
   "outputs": [
    {
     "name": "stdout",
     "output_type": "stream",
     "text": [
      "Accuracy: 0.957143\n",
      "ROC AUC: 0.97928\n",
      "Log loss: 0.350058\n"
     ]
    }
   ],
   "source": [
    "evaluateModel(RandomForestClassifier(n_estimators=32, n_jobs=4, random_state=42))"
   ]
  },
  {
   "cell_type": "markdown",
   "metadata": {},
   "source": [
    "# ExtraTreesClassifier"
   ]
  },
  {
   "cell_type": "code",
   "execution_count": 88,
   "metadata": {
    "collapsed": false
   },
   "outputs": [
    {
     "name": "stdout",
     "output_type": "stream",
     "text": [
      "Accuracy: 0.928571\n",
      "ROC AUC: 0.977355\n",
      "Log loss: 0.366092\n"
     ]
    }
   ],
   "source": [
    "evaluateModel(ExtraTreesClassifier(n_jobs=4, random_state=42))"
   ]
  },
  {
   "cell_type": "markdown",
   "metadata": {},
   "source": [
    "# Tune et params"
   ]
  },
  {
   "cell_type": "code",
   "execution_count": 91,
   "metadata": {
    "collapsed": false
   },
   "outputs": [
    {
     "data": {
      "text/plain": [
       "({'n_estimators': 43}, 0.99445122289390486)"
      ]
     },
     "execution_count": 91,
     "metadata": {},
     "output_type": "execute_result"
    }
   ],
   "source": [
    "param_test1 = {\n",
    "     'n_estimators':range(30, 51, 1)\n",
    "}\n",
    "gsearch = GridSearchCV(estimator = ExtraTreesClassifier(n_jobs=4, random_state=42),\n",
    " param_grid = param_test1, scoring='roc_auc',n_jobs=4, iid=False, cv=5)\n",
    "gsearch.fit(train[X], ravel(train[y]))\n",
    "gsearch.best_params_, gsearch.best_score_"
   ]
  },
  {
   "cell_type": "code",
   "execution_count": 143,
   "metadata": {
    "collapsed": false
   },
   "outputs": [
    {
     "name": "stdout",
     "output_type": "stream",
     "text": [
      "Accuracy: 0.957143\n",
      "ROC AUC: 0.990489\n",
      "Log loss: 0.116324\n"
     ]
    }
   ],
   "source": [
    "evaluateModel(ExtraTreesClassifier(n_estimators=43, n_jobs=4, random_state=42))"
   ]
  },
  {
   "cell_type": "markdown",
   "metadata": {},
   "source": [
    "# KNN"
   ]
  },
  {
   "cell_type": "code",
   "execution_count": 144,
   "metadata": {
    "collapsed": false
   },
   "outputs": [
    {
     "name": "stdout",
     "output_type": "stream",
     "text": [
      "Accuracy: 0.942857\n",
      "ROC AUC: 0.972826\n",
      "Log loss: 0.80515\n"
     ]
    }
   ],
   "source": [
    "evaluateModel(KNeighborsClassifier(n_jobs=4))"
   ]
  },
  {
   "cell_type": "markdown",
   "metadata": {},
   "source": [
    "# LR"
   ]
  },
  {
   "cell_type": "code",
   "execution_count": 204,
   "metadata": {
    "collapsed": false
   },
   "outputs": [
    {
     "name": "stdout",
     "output_type": "stream",
     "text": [
      "Accuracy: 0.942857\n",
      "ROC AUC: 0.995018\n",
      "Log loss: 0.103995\n"
     ]
    }
   ],
   "source": [
    "evaluateModel(LogisticRegressionCV(n_jobs=4, random_state=42))"
   ]
  },
  {
   "cell_type": "markdown",
   "metadata": {},
   "source": [
    "# SVC"
   ]
  },
  {
   "cell_type": "code",
   "execution_count": 61,
   "metadata": {
    "collapsed": false
   },
   "outputs": [
    {
     "name": "stdout",
     "output_type": "stream",
     "text": [
      "{'C': 0.01, 'kernel': 'linear', 'gamma': 0.001} 0.99467583606\n"
     ]
    }
   ],
   "source": [
    "param_test4 = {\n",
    " 'C':[0.001, 0.01, 0.1, 1, 10, 100],\n",
    " 'kernel':['linear', 'poly', 'rbf', 'sigmoid'],\n",
    " 'gamma':[0.001, 0.0001]\n",
    "}\n",
    "gsearch4 = GridSearchCV(estimator = SVC(random_state=42, probability=True),\n",
    " param_grid = param_test4, scoring='roc_auc',n_jobs=4,iid=False, cv=5)\n",
    "gsearch4.fit(train[X], ravel(train[y]))\n",
    "print(gsearch4.best_params_, gsearch4.best_score_)"
   ]
  },
  {
   "cell_type": "code",
   "execution_count": 62,
   "metadata": {
    "collapsed": false,
    "scrolled": true
   },
   "outputs": [
    {
     "name": "stdout",
     "output_type": "stream",
     "text": [
      "Accuracy: 0.964286\n",
      "ROC AUC: 0.993659\n",
      "Log loss: 0.105842\n"
     ]
    }
   ],
   "source": [
    "evaluateModel(SVC(C=0.01, kernel='linear', gamma=0.001, random_state=42, probability=True))"
   ]
  },
  {
   "cell_type": "markdown",
   "metadata": {},
   "source": [
    "# MLP"
   ]
  },
  {
   "cell_type": "code",
   "execution_count": 229,
   "metadata": {
    "collapsed": false,
    "scrolled": true
   },
   "outputs": [
    {
     "name": "stdout",
     "output_type": "stream",
     "text": [
      "Accuracy: 0.957143\n",
      "ROC AUC: 0.994339\n",
      "Log loss: 0.101094\n"
     ]
    }
   ],
   "source": [
    "evaluateModel(MLPClassifier(hidden_layer_sizes=(41), random_state=42, max_iter=500))"
   ]
  },
  {
   "cell_type": "markdown",
   "metadata": {},
   "source": [
    "# Ensembling"
   ]
  },
  {
   "cell_type": "code",
   "execution_count": 76,
   "metadata": {
    "collapsed": false
   },
   "outputs": [],
   "source": [
    "clfs = [\n",
    "    LogisticRegressionCV(cv=10, n_jobs=4,scoring='log_loss', max_iter=200, random_state=42),\n",
    "    MLPClassifier(hidden_layer_sizes=(41,), random_state=42, max_iter=500),\n",
    "    #SVC(C=0.01, kernel='linear', gamma=0.001, random_state=42, probability=True)\n",
    "]"
   ]
  },
  {
   "cell_type": "code",
   "execution_count": 77,
   "metadata": {
    "collapsed": true
   },
   "outputs": [],
   "source": [
    "train_a, train_b = train_test_split(train, stratify=train[y], random_state=42, train_size=0.7)"
   ]
  },
  {
   "cell_type": "code",
   "execution_count": 78,
   "metadata": {
    "collapsed": false
   },
   "outputs": [],
   "source": [
    "X_lr_train = np.zeros((train_b.shape[0], len(clfs)))\n",
    "X_lr_test = np.zeros((test.shape[0], len(clfs)))"
   ]
  },
  {
   "cell_type": "code",
   "execution_count": 79,
   "metadata": {
    "collapsed": false,
    "scrolled": false
   },
   "outputs": [
    {
     "name": "stdout",
     "output_type": "stream",
     "text": [
      "on test AUC_ROC: 0.994338768115942\n",
      "on test Log_loss: 0.10636927585827866\n",
      "on test AUC_ROC: 0.9938858695652174\n",
      "on test Log_loss: 0.10474300490152359\n"
     ]
    }
   ],
   "source": [
    "for i, clf in enumerate(clfs):\n",
    "    clf.fit(train_a[X], ravel(train_a[y]))\n",
    "    X_lr_train[:,i] = clf.predict_proba(train_b[X])[:,1]\n",
    "    X_lr_test[:,i] = clf.predict_proba(test[X])[:,1]\n",
    "    print(\"on test AUC_ROC: {1}\".format(i, metrics.roc_auc_score(ravel(test[y]), X_lr_test[:,i])))\n",
    "    print(\"on test Log_loss: {1}\".format(i, metrics.log_loss(ravel(test[y]), X_lr_test[:,i])))"
   ]
  },
  {
   "cell_type": "code",
   "execution_count": 80,
   "metadata": {
    "collapsed": false,
    "scrolled": false
   },
   "outputs": [
    {
     "name": "stdout",
     "output_type": "stream",
     "text": [
      "Accuracy: 0.964286\n",
      "ROC AUC: 0.994112\n",
      "Log los: 0.104309\n"
     ]
    }
   ],
   "source": [
    "#The best one\n",
    "y_proba = np.mean(X_lr_test, axis=1)\n",
    "y_pred = list(map(lambda x: x>0.5, y_proba))\n",
    "print(\"Accuracy: %.6g\" % metrics.accuracy_score(ravel(test[y]), y_pred))\n",
    "print(\"ROC AUC: %.6g\" % metrics.roc_auc_score(ravel(test[y]), y_proba))\n",
    "print(\"Log los: %.6g\" % metrics.log_loss(ravel(test[y]), y_proba))"
   ]
  },
  {
   "cell_type": "code",
   "execution_count": 70,
   "metadata": {
    "collapsed": false
   },
   "outputs": [
    {
     "name": "stdout",
     "output_type": "stream",
     "text": [
      "Accuracy: 0.785714\n",
      "ROC AUC: 0.97577\n",
      "Log loss: 0.443885\n"
     ]
    }
   ],
   "source": [
    "#for some reason simple bagging works better than stacking\n",
    "lr = LogisticRegressionCV(cv=10,n_jobs=4,scoring='log_loss', max_iter=100)\n",
    "lr.fit(scale(X_lr_train), train_b[y])\n",
    "print(\"Accuracy: %.6g\" % metrics.accuracy_score(ravel(test[y]), lr.predict(X_lr_test)))\n",
    "print(\"ROC AUC: %.6g\" % metrics.roc_auc_score(ravel(test[y]), lr.predict_proba(X_lr_test)[:,1]))\n",
    "print(\"Log loss: %.6g\" % metrics.log_loss(ravel(test[y]), lr.predict_proba(X_lr_test)[:,1]))"
   ]
  }
 ],
 "metadata": {
  "anaconda-cloud": {},
  "kernelspec": {
   "display_name": "Python [conda root]",
   "language": "python",
   "name": "conda-root-py"
  },
  "language_info": {
   "codemirror_mode": {
    "name": "ipython",
    "version": 3
   },
   "file_extension": ".py",
   "mimetype": "text/x-python",
   "name": "python",
   "nbconvert_exporter": "python",
   "pygments_lexer": "ipython3",
   "version": "3.5.2"
  }
 },
 "nbformat": 4,
 "nbformat_minor": 1
}
